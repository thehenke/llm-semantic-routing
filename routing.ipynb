{
 "cells": [
  {
   "cell_type": "code",
   "execution_count": 1,
   "id": "45df0d59-af79-4c8b-92cd-21c7e9dd9f21",
   "metadata": {},
   "outputs": [],
   "source": [
    "import langchain\n",
    "import getpass\n",
    "import os\n"
   ]
  },
  {
   "cell_type": "code",
   "execution_count": 2,
   "id": "30be26ab-18b2-4a82-be09-88ccf25e53c5",
   "metadata": {},
   "outputs": [
    {
     "name": "stdin",
     "output_type": "stream",
     "text": [
      "Enter your Google AI API key:  ········\n"
     ]
    }
   ],
   "source": [
    "if \"GOOGLE_API_KEY\" not in os.environ:\n",
    "    os.environ[\"GOOGLE_API_KEY\"] = getpass.getpass(\"Enter your Google AI API key: \")"
   ]
  },
  {
   "cell_type": "markdown",
   "id": "5fa7cf95-2a02-45b1-bfac-e6029d693aa5",
   "metadata": {},
   "source": [
    "## 1. Abordagem de Roteamento de Query usando Function Calling"
   ]
  },
  {
   "cell_type": "code",
   "execution_count": 56,
   "id": "1ad513e4-1639-4d7f-8a19-521828c29cd8",
   "metadata": {},
   "outputs": [],
   "source": [
    "from langchain_google_genai import ChatGoogleGenerativeAI\n",
    "from langchain_core.prompts import ChatPromptTemplate\n",
    "from langchain_core.messages import AIMessage, HumanMessage, ToolMessage\n",
    "from langchain_core.tools import tool\n",
    "from langchain_core.runnables import RunnablePassthrough\n",
    "import pydantic\n",
    "import pandas as pd\n",
    "import time"
   ]
  },
  {
   "cell_type": "code",
   "execution_count": 37,
   "id": "625ff10e-c13e-410c-9c5d-63a99dc4a48b",
   "metadata": {},
   "outputs": [],
   "source": [
    "llm = ChatGoogleGenerativeAI(\n",
    "    model=\"gemini-2.0-flash\",\n",
    "    temperature=1,\n",
    "    max_tokens=1000,\n",
    "    max_retries=2,\n",
    ")"
   ]
  },
  {
   "cell_type": "code",
   "execution_count": 38,
   "id": "c72cf0aa-63e4-41e8-90d7-d42b3bec9439",
   "metadata": {},
   "outputs": [],
   "source": [
    "@tool\n",
    "def get_movie_recommendation(year: int, genre: str) -> str:\n",
    "    \"\"\"Recomenda um filme específico com base no ano e no gênero\"\"\"\n",
    "    return f\"Titanic, um filme de {genre} de {year}.\"\n",
    "\n",
    "@tool\n",
    "def query_movie_database(name: str) -> str:\n",
    "    \"\"\"Consulta informações sobre um filme específico\"\"\"\n",
    "    return f\"O filme {name} tem uma ótima avaliação no IMDb.\"\n",
    "\n",
    "@tool\n",
    "def ensinar_cachorro(name: str) -> str:\n",
    "    \"\"\"Ensina um cachorro a ser mais rápido e inteligente\"\"\"\n",
    "    return f\"Ensinando o cachorro {name} a pular.\"\n",
    "\n",
    "@tool\n",
    "def fazer_cafe(quantidade: str) -> str:\n",
    "    \"\"\"Prepara café em uma quantidade específica\"\"\"\n",
    "    return f\"Fazendo {quantidade} de café.\""
   ]
  },
  {
   "cell_type": "code",
   "execution_count": 39,
   "id": "c162ef45-4e6e-4a3d-91b9-8f095673b9d9",
   "metadata": {},
   "outputs": [],
   "source": [
    "tools = [get_movie_recommendation, query_movie_database, ensinar_cachorro, fazer_cafe]"
   ]
  },
  {
   "cell_type": "code",
   "execution_count": 40,
   "id": "3bbda498-1da7-4003-a4af-093ddb90972b",
   "metadata": {},
   "outputs": [],
   "source": [
    "llm_with_tools = llm.bind_tools(tools)"
   ]
  },
  {
   "cell_type": "code",
   "execution_count": 41,
   "id": "22b6aca6-0bc0-4214-9895-5e152574cc8b",
   "metadata": {},
   "outputs": [],
   "source": [
    "perguntas = [\n",
    "    \"Me recomenda um filme de ação de 2010?\",\n",
    "    \"Quais filmes de ficção científica você recomendaria?\",\n",
    "    \"Qual o nome do filme que foi lançado em 2005?\",\n",
    "    \"Me fale sobre o filme O Senhor dos Anéis\",\n",
    "    \"Como faço para ensinar meu cachorro Spark a ser mais rápido?\",\n",
    "    \"Me recomenda um filme de terror?\",\n",
    "    \"Você sabe fazer bolacha?\",\n",
    "    \"Como recomenda fazer pão?\",\n",
    "    \"Me faça 600ml de café\",\n",
    "    \"Me fale sobre o filme Titanic\",\n",
    "    \"Quero todos os cafés\",\n",
    "    \"Me ajude a trocar o pneu\",\n",
    "    \"Oi\"\n",
    "]\n"
   ]
  },
  {
   "cell_type": "code",
   "execution_count": 42,
   "id": "4ae8ffb7-809c-44c1-b7c6-cd81b225c2f5",
   "metadata": {},
   "outputs": [],
   "source": [
    "def generate_answers(perguntas):\n",
    "    respostas = []\n",
    "    \n",
    "    # Para cada pergunta, cria uma mensagem e invoca o modelo\n",
    "    for pergunta in perguntas:\n",
    "        time.sleep(1)\n",
    "        message = HumanMessage(content=pergunta)\n",
    "\n",
    "        ai_msg = llm_with_tools.invoke([message])\n",
    "        \n",
    "        # respostas.append((pergunta, ai_msg))\n",
    "    \n",
    "        yield (pergunta, ai_msg)"
   ]
  },
  {
   "cell_type": "code",
   "execution_count": 43,
   "id": "25ca482d-8429-4546-9bd3-def66557579a",
   "metadata": {},
   "outputs": [],
   "source": [
    "result = []"
   ]
  },
  {
   "cell_type": "code",
   "execution_count": 44,
   "id": "947bf3ec-603d-43f8-bf1d-843a6060f480",
   "metadata": {},
   "outputs": [],
   "source": [
    "for pergunta, resposta in generate_answers(perguntas):\n",
    "    if len(resposta.tool_calls) > 0:\n",
    "        for tool_call in resposta.tool_calls:\n",
    "            selected_tool = {\n",
    "                    \"get_movie_recommendation\": get_movie_recommendation, \n",
    "                    \"query_movie_database\": query_movie_database,\n",
    "                    \"ensinar_cachorro\": ensinar_cachorro,\n",
    "                    \"fazer_cafe\": fazer_cafe\n",
    "            }[tool_call[\"name\"].lower()]\n",
    "            # print(selected_tool)\n",
    "            tool_output = selected_tool.invoke(tool_call[\"args\"])\n",
    "            result.append(\n",
    "                {\n",
    "                    \"query_input\": str(pergunta),\n",
    "                    \"tool_id\": str(tool_call[\"id\"]),\n",
    "                    \"args\": str(tool_call[\"args\"]),\n",
    "                    \"name\": str(tool_call[\"name\"]),\n",
    "                    \"tool_output\": str(tool_output)\n",
    "                }\n",
    "            )\n",
    "    else:\n",
    "         result.append(\n",
    "                {\n",
    "                    \"query_input\": str(pergunta),\n",
    "                    \"tool_id\": None,\n",
    "                    \"args\": None,\n",
    "                    \"name\": None,\n",
    "                    \"tool_output\": None\n",
    "                }\n",
    "            )"
   ]
  },
  {
   "cell_type": "code",
   "execution_count": 45,
   "id": "624590d5-c869-4ec4-b016-495f35757b02",
   "metadata": {},
   "outputs": [],
   "source": [
    "df = pd.DataFrame(result)"
   ]
  },
  {
   "cell_type": "code",
   "execution_count": 46,
   "id": "2787cef1-d40d-40a7-9ae8-10e0d7bb5ec7",
   "metadata": {},
   "outputs": [
    {
     "data": {
      "text/html": [
       "<div>\n",
       "<style scoped>\n",
       "    .dataframe tbody tr th:only-of-type {\n",
       "        vertical-align: middle;\n",
       "    }\n",
       "\n",
       "    .dataframe tbody tr th {\n",
       "        vertical-align: top;\n",
       "    }\n",
       "\n",
       "    .dataframe thead th {\n",
       "        text-align: right;\n",
       "    }\n",
       "</style>\n",
       "<table border=\"1\" class=\"dataframe\">\n",
       "  <thead>\n",
       "    <tr style=\"text-align: right;\">\n",
       "      <th></th>\n",
       "      <th>query_input</th>\n",
       "      <th>tool_id</th>\n",
       "      <th>args</th>\n",
       "      <th>name</th>\n",
       "      <th>tool_output</th>\n",
       "    </tr>\n",
       "  </thead>\n",
       "  <tbody>\n",
       "    <tr>\n",
       "      <th>0</th>\n",
       "      <td>Me recomenda um filme de ação de 2010?</td>\n",
       "      <td>ee003b0f-b28b-40b1-af6b-67c92ff4b539</td>\n",
       "      <td>{'year': 2010.0, 'genre': 'ação'}</td>\n",
       "      <td>get_movie_recommendation</td>\n",
       "      <td>Titanic, um filme de ação de 2010.</td>\n",
       "    </tr>\n",
       "    <tr>\n",
       "      <th>1</th>\n",
       "      <td>Quais filmes de ficção científica você recomen...</td>\n",
       "      <td>None</td>\n",
       "      <td>None</td>\n",
       "      <td>None</td>\n",
       "      <td>None</td>\n",
       "    </tr>\n",
       "    <tr>\n",
       "      <th>2</th>\n",
       "      <td>Qual o nome do filme que foi lançado em 2005?</td>\n",
       "      <td>None</td>\n",
       "      <td>None</td>\n",
       "      <td>None</td>\n",
       "      <td>None</td>\n",
       "    </tr>\n",
       "    <tr>\n",
       "      <th>3</th>\n",
       "      <td>Me fale sobre o filme O Senhor dos Anéis</td>\n",
       "      <td>8de7edc1-d28f-4483-9f71-769da8d097a9</td>\n",
       "      <td>{'name': 'O Senhor dos Anéis'}</td>\n",
       "      <td>query_movie_database</td>\n",
       "      <td>O filme O Senhor dos Anéis tem uma ótima avali...</td>\n",
       "    </tr>\n",
       "    <tr>\n",
       "      <th>4</th>\n",
       "      <td>Como faço para ensinar meu cachorro Spark a se...</td>\n",
       "      <td>850a958a-608f-49ea-bae4-4a4c8595f28e</td>\n",
       "      <td>{'name': 'Spark'}</td>\n",
       "      <td>ensinar_cachorro</td>\n",
       "      <td>Ensinando o cachorro Spark a pular.</td>\n",
       "    </tr>\n",
       "    <tr>\n",
       "      <th>5</th>\n",
       "      <td>Me recomenda um filme de terror?</td>\n",
       "      <td>None</td>\n",
       "      <td>None</td>\n",
       "      <td>None</td>\n",
       "      <td>None</td>\n",
       "    </tr>\n",
       "    <tr>\n",
       "      <th>6</th>\n",
       "      <td>Você sabe fazer bolacha?</td>\n",
       "      <td>None</td>\n",
       "      <td>None</td>\n",
       "      <td>None</td>\n",
       "      <td>None</td>\n",
       "    </tr>\n",
       "    <tr>\n",
       "      <th>7</th>\n",
       "      <td>Como recomenda fazer pão?</td>\n",
       "      <td>None</td>\n",
       "      <td>None</td>\n",
       "      <td>None</td>\n",
       "      <td>None</td>\n",
       "    </tr>\n",
       "    <tr>\n",
       "      <th>8</th>\n",
       "      <td>Me faça 600ml de café</td>\n",
       "      <td>dd719734-8610-4dbb-8a4f-de8d2d148b90</td>\n",
       "      <td>{'quantidade': '600ml'}</td>\n",
       "      <td>fazer_cafe</td>\n",
       "      <td>Fazendo 600ml de café.</td>\n",
       "    </tr>\n",
       "    <tr>\n",
       "      <th>9</th>\n",
       "      <td>Me fale sobre o filme Titanic</td>\n",
       "      <td>bbc0cb01-6717-420c-9d24-4d080f264566</td>\n",
       "      <td>{'name': 'Titanic'}</td>\n",
       "      <td>query_movie_database</td>\n",
       "      <td>O filme Titanic tem uma ótima avaliação no IMDb.</td>\n",
       "    </tr>\n",
       "    <tr>\n",
       "      <th>10</th>\n",
       "      <td>Quero todos os cafés</td>\n",
       "      <td>None</td>\n",
       "      <td>None</td>\n",
       "      <td>None</td>\n",
       "      <td>None</td>\n",
       "    </tr>\n",
       "    <tr>\n",
       "      <th>11</th>\n",
       "      <td>Me ajude a trocar o pneu</td>\n",
       "      <td>None</td>\n",
       "      <td>None</td>\n",
       "      <td>None</td>\n",
       "      <td>None</td>\n",
       "    </tr>\n",
       "    <tr>\n",
       "      <th>12</th>\n",
       "      <td>Oi</td>\n",
       "      <td>None</td>\n",
       "      <td>None</td>\n",
       "      <td>None</td>\n",
       "      <td>None</td>\n",
       "    </tr>\n",
       "  </tbody>\n",
       "</table>\n",
       "</div>"
      ],
      "text/plain": [
       "                                          query_input  \\\n",
       "0              Me recomenda um filme de ação de 2010?   \n",
       "1   Quais filmes de ficção científica você recomen...   \n",
       "2       Qual o nome do filme que foi lançado em 2005?   \n",
       "3            Me fale sobre o filme O Senhor dos Anéis   \n",
       "4   Como faço para ensinar meu cachorro Spark a se...   \n",
       "5                    Me recomenda um filme de terror?   \n",
       "6                            Você sabe fazer bolacha?   \n",
       "7                           Como recomenda fazer pão?   \n",
       "8                               Me faça 600ml de café   \n",
       "9                       Me fale sobre o filme Titanic   \n",
       "10                               Quero todos os cafés   \n",
       "11                           Me ajude a trocar o pneu   \n",
       "12                                                 Oi   \n",
       "\n",
       "                                 tool_id                               args  \\\n",
       "0   ee003b0f-b28b-40b1-af6b-67c92ff4b539  {'year': 2010.0, 'genre': 'ação'}   \n",
       "1                                   None                               None   \n",
       "2                                   None                               None   \n",
       "3   8de7edc1-d28f-4483-9f71-769da8d097a9     {'name': 'O Senhor dos Anéis'}   \n",
       "4   850a958a-608f-49ea-bae4-4a4c8595f28e                  {'name': 'Spark'}   \n",
       "5                                   None                               None   \n",
       "6                                   None                               None   \n",
       "7                                   None                               None   \n",
       "8   dd719734-8610-4dbb-8a4f-de8d2d148b90            {'quantidade': '600ml'}   \n",
       "9   bbc0cb01-6717-420c-9d24-4d080f264566                {'name': 'Titanic'}   \n",
       "10                                  None                               None   \n",
       "11                                  None                               None   \n",
       "12                                  None                               None   \n",
       "\n",
       "                        name  \\\n",
       "0   get_movie_recommendation   \n",
       "1                       None   \n",
       "2                       None   \n",
       "3       query_movie_database   \n",
       "4           ensinar_cachorro   \n",
       "5                       None   \n",
       "6                       None   \n",
       "7                       None   \n",
       "8                 fazer_cafe   \n",
       "9       query_movie_database   \n",
       "10                      None   \n",
       "11                      None   \n",
       "12                      None   \n",
       "\n",
       "                                          tool_output  \n",
       "0                  Titanic, um filme de ação de 2010.  \n",
       "1                                                None  \n",
       "2                                                None  \n",
       "3   O filme O Senhor dos Anéis tem uma ótima avali...  \n",
       "4                 Ensinando o cachorro Spark a pular.  \n",
       "5                                                None  \n",
       "6                                                None  \n",
       "7                                                None  \n",
       "8                              Fazendo 600ml de café.  \n",
       "9    O filme Titanic tem uma ótima avaliação no IMDb.  \n",
       "10                                               None  \n",
       "11                                               None  \n",
       "12                                               None  "
      ]
     },
     "execution_count": 46,
     "metadata": {},
     "output_type": "execute_result"
    }
   ],
   "source": [
    "df"
   ]
  },
  {
   "cell_type": "markdown",
   "id": "61366952-9273-4674-9e98-ec65036548f5",
   "metadata": {},
   "source": [
    "## 2. Abordagem de Roteamento de Query usando VectorSearch"
   ]
  },
  {
   "cell_type": "code",
   "execution_count": 103,
   "id": "b93b34ee-3539-4742-a3f4-1b6847156e89",
   "metadata": {},
   "outputs": [],
   "source": [
    "import faiss\n",
    "import numpy as np\n",
    "from langchain_google_genai import GoogleGenerativeAIEmbeddings"
   ]
  },
  {
   "cell_type": "code",
   "execution_count": 104,
   "id": "c3dce18d-19f8-4b79-bd50-825e6633f47d",
   "metadata": {},
   "outputs": [],
   "source": [
    "embedding_model = GoogleGenerativeAIEmbeddings(model=\"models/text-embedding-004\", region='us-central1')"
   ]
  },
  {
   "cell_type": "code",
   "execution_count": 115,
   "id": "93b5d26e-7105-4228-8f0c-52394434541a",
   "metadata": {},
   "outputs": [],
   "source": [
    "examples = {\n",
    "    \"get_movie_recommendation\": [\n",
    "        \"Me recomenda um filme de ação?\",\n",
    "        \"Qual filme de terror você sugere?\",\n",
    "        \"Preciso de uma indicação de comédia.\"\n",
    "    ],\n",
    "    \"query_movie_database\": [\n",
    "        \"Me fala sobre o filme Interestelar.\",\n",
    "        \"Qual é a história de O Poderoso Chefão?\",\n",
    "        \"Quem dirigiu Matrix?\"\n",
    "    ],\n",
    "    \"fazer_cafe\": [\n",
    "        \"Me ajude a fazer cafe\",\n",
    "        \"Quero café\",\n",
    "        \"Pode moer café pra mim?\"\n",
    "    ],\n",
    "    \"none\": [\n",
    "        \"Oi\",\n",
    "        \"Olá\",\n",
    "        \"Como você está?\"\n",
    "    ]\n",
    "}"
   ]
  },
  {
   "cell_type": "code",
   "execution_count": 116,
   "id": "7f820dfc-c380-4b4d-8fa5-9c00fb4dec29",
   "metadata": {},
   "outputs": [],
   "source": [
    "# Converte os exemplos para embeddings\n",
    "example_texts = []\n",
    "example_labels = []\n",
    "for label, texts in examples.items():\n",
    "    for text in texts:\n",
    "        example_texts.append(text)\n",
    "        example_labels.append(label)\n",
    "\n",
    "example_embeddings = embedding_model.embed_documents(example_texts)\n",
    "index = faiss.IndexFlatL2(len(example_embeddings[0]))  # Index FAISS\n",
    "index.add(np.array(example_embeddings))  # Adiciona os vetores ao índice"
   ]
  },
  {
   "cell_type": "code",
   "execution_count": 117,
   "id": "43940da0-7b14-41da-af8b-812e1f92fafe",
   "metadata": {},
   "outputs": [],
   "source": [
    "def get_movie_recommendation():\n",
    "    return f\"Recomendo um ótimo filme do gênero terror!\"\n",
    "\n",
    "def query_movie_database():\n",
    "    return f\"Aqui estão informações sobre um filme.\"\n",
    "    \n",
    "def fazer_cafe():\n",
    "    return f\"Fazendo café.\"\n"
   ]
  },
  {
   "cell_type": "code",
   "execution_count": 118,
   "id": "560aed97-f93f-498f-b453-b52df0ea7e85",
   "metadata": {},
   "outputs": [],
   "source": [
    "# Função de roteamento baseada em similaridade\n",
    "def route_query(user_input):\n",
    "    user_embedding = embedding_model.embed_query(user_input)\n",
    "    distances, indices = index.search(np.array([user_embedding]), 1)  # Busca o mais próximo\n",
    "    best_match = example_labels[indices[0][0]]\n",
    "\n",
    "    if best_match == \"get_movie_recommendation\":\n",
    "        return get_movie_recommendation()  # Aqui poderíamos extrair o gênero real\n",
    "    elif best_match == \"query_movie_database\":\n",
    "        return query_movie_database()  # Aqui poderíamos extrair o nome real\n",
    "    elif best_match == \"fazer_cafe\":\n",
    "        return fazer_cafe()\n",
    "    else:\n",
    "        return \"Nenhuma ação necessária.\""
   ]
  },
  {
   "cell_type": "code",
   "execution_count": 120,
   "id": "bc269281-a326-4ea0-a33f-7e470a69fc41",
   "metadata": {},
   "outputs": [],
   "source": [
    "perguntas = [\n",
    "    \"Me recomenda um filme de ação de 2010?\",\n",
    "    \"Quais filmes de ficção científica você recomendaria?\",\n",
    "    \"Qual o nome do filme que foi lançado em 2005?\",\n",
    "    \"Me fale sobre o filme O Senhor dos Anéis\",\n",
    "    \"Como faço para ensinar meu cachorro Spark a ser mais rápido?\",\n",
    "    \"Me recomenda um filme de terror?\",\n",
    "    \"Você sabe fazer bolacha?\",\n",
    "    \"Como recomenda fazer pão?\",\n",
    "    \"Me faça 600ml de café\",\n",
    "    \"Me fale sobre o filme Titanic\",\n",
    "    \"Quero todos os cafés\",\n",
    "    \"Me ajude a trocar o pneu\",\n",
    "    \"Oi\"\n",
    "]\n"
   ]
  },
  {
   "cell_type": "code",
   "execution_count": 122,
   "id": "48014247-0a2d-4e03-b7cb-1b967cef163f",
   "metadata": {},
   "outputs": [
    {
     "name": "stdout",
     "output_type": "stream",
     "text": [
      "Recomendo um ótimo filme do gênero terror!\n",
      "Recomendo um ótimo filme do gênero terror!\n",
      "Aqui estão informações sobre um filme.\n",
      "Aqui estão informações sobre um filme.\n",
      "Nenhuma ação necessária.\n",
      "Recomendo um ótimo filme do gênero terror!\n",
      "Fazendo café.\n",
      "Fazendo café.\n",
      "Fazendo café.\n",
      "Aqui estão informações sobre um filme.\n",
      "Fazendo café.\n",
      "Fazendo café.\n",
      "Nenhuma ação necessária.\n"
     ]
    }
   ],
   "source": [
    "for pergunta in perguntas:\n",
    "    print(route_query(pergunta))"
   ]
  },
  {
   "cell_type": "code",
   "execution_count": null,
   "id": "2fd791d8-a250-4df4-9839-77727e21b980",
   "metadata": {},
   "outputs": [],
   "source": []
  }
 ],
 "metadata": {
  "kernelspec": {
   "display_name": "Python 3 (ipykernel)",
   "language": "python",
   "name": "python3"
  },
  "language_info": {
   "codemirror_mode": {
    "name": "ipython",
    "version": 3
   },
   "file_extension": ".py",
   "mimetype": "text/x-python",
   "name": "python",
   "nbconvert_exporter": "python",
   "pygments_lexer": "ipython3",
   "version": "3.12.1"
  }
 },
 "nbformat": 4,
 "nbformat_minor": 5
}
