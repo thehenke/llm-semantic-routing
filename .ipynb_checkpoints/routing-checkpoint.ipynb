{
 "cells": [
  {
   "cell_type": "code",
   "execution_count": 1,
   "id": "45df0d59-af79-4c8b-92cd-21c7e9dd9f21",
   "metadata": {},
   "outputs": [],
   "source": [
    "import langchain\n",
    "import getpass\n",
    "import os\n"
   ]
  },
  {
   "cell_type": "code",
   "execution_count": 2,
   "id": "30be26ab-18b2-4a82-be09-88ccf25e53c5",
   "metadata": {},
   "outputs": [
    {
     "name": "stdin",
     "output_type": "stream",
     "text": [
      "Enter your Google AI API key:  ········\n"
     ]
    }
   ],
   "source": [
    "if \"GOOGLE_API_KEY\" not in os.environ:\n",
    "    os.environ[\"GOOGLE_API_KEY\"] = getpass.getpass(\"Enter your Google AI API key: \")"
   ]
  },
  {
   "cell_type": "markdown",
   "id": "13e41929-fd40-4aef-bdc3-cb4121acb0aa",
   "metadata": {},
   "source": [
    "## Abordagem de Roteamento de Query usando Function Calling"
   ]
  },
  {
   "cell_type": "code",
   "execution_count": 26,
   "id": "1ad513e4-1639-4d7f-8a19-521828c29cd8",
   "metadata": {},
   "outputs": [],
   "source": [
    "from langchain_google_genai import ChatGoogleGenerativeAI\n",
    "from langchain_core.tools import tool\n",
    "import pydantic"
   ]
  },
  {
   "cell_type": "code",
   "execution_count": 6,
   "id": "625ff10e-c13e-410c-9c5d-63a99dc4a48b",
   "metadata": {},
   "outputs": [],
   "source": [
    "llm = ChatGoogleGenerativeAI(\n",
    "    model=\"gemini-2.0-flash\",\n",
    "    temperature=1,\n",
    "    max_tokens=1000,\n",
    "    max_retries=2,\n",
    ")"
   ]
  },
  {
   "cell_type": "code",
   "execution_count": 28,
   "id": "c72cf0aa-63e4-41e8-90d7-d42b3bec9439",
   "metadata": {},
   "outputs": [],
   "source": [
    "@tool\n",
    "def get_movie_recommendation(year: int, genre: int) -> int:\n",
    "    \"\"\"Recommender specific movie based on year and genre\n",
    "\n",
    "    \"\"\"\n",
    "    return f\"Titanic\"\n",
    "\n",
    "\n",
    "@tool\n",
    "def query_movie_database(name: str) -> str:\n",
    "    \"\"\"Query a specific movie inside database.\n",
    "    \"\"\"\n",
    "    return f\"O filme {name} tem uma otima avaliação no imdb\"\n",
    "\n",
    "\n",
    "tools = [get_movie_recommendation, query_movie_database]"
   ]
  },
  {
   "cell_type": "code",
   "execution_count": null,
   "id": "44df5664-01ae-4374-a60f-384dbbc093e2",
   "metadata": {},
   "outputs": [],
   "source": []
  },
  {
   "cell_type": "code",
   "execution_count": null,
   "id": "eb73c137-1c72-447d-9b0d-01ba9196da2c",
   "metadata": {},
   "outputs": [],
   "source": []
  },
  {
   "cell_type": "code",
   "execution_count": 29,
   "id": "1bc2ffe3-67e5-4983-a601-4bb95e729169",
   "metadata": {},
   "outputs": [],
   "source": [
    "llm = llm.bind_tools(tools)"
   ]
  },
  {
   "cell_type": "code",
   "execution_count": 22,
   "id": "809dfea8-c6db-4bd7-9351-c0e0f5c43d6b",
   "metadata": {},
   "outputs": [],
   "source": [
    "def route_query(user_input):\n",
    "    messages = [HumanMessage(content=user_input)]\n",
    "    response = llm.invoke(messages)\n",
    "    print(response)  # Mostra o retorno completo da resposta\n",
    "\n",
    "    # Verifica se houve uma chamada de ferramenta\n",
    "    if response.tool_calls:\n",
    "        for tool_call in response.tool_calls:\n",
    "            function_name = tool_call[\"name\"]\n",
    "            args = tool_call[\"args\"]\n",
    "            \n",
    "            print(f\"Função chamada: {function_name} com argumentos {args}\")\n",
    "\n",
    "            # Imprime os argumentos para debugar e entender como estão sendo passados\n",
    "            print(f\"Argumentos passados para a função: {args}\")\n",
    "\n",
    "            # Chama a função correspondente com os argumentos e pega o resultado\n",
    "            if function_name == \"get_movie_recommendation\":\n",
    "                # Certifica-se de que as chaves estão corretas\n",
    "                result = get_movie_recommendation(**args)  # Expande o dicionário para argumentos nomeados\n",
    "            elif function_name == \"query_movie_database\":\n",
    "                result = query_movie_database(**args)\n",
    "            else:\n",
    "                result = \"Função desconhecida.\"\n",
    "\n",
    "            # Retorna a resposta com o resultado da função\n",
    "            return f\"O modelo decidiu chamar a função '{function_name}' com os argumentos {args}. Resultado da função: {result}\"\n",
    "\n",
    "    # Se não houver chamadas de função, cria uma resposta normal do modelo\n",
    "    return response.content if response.content else \"Nenhuma ação necessária.\""
   ]
  },
  {
   "cell_type": "code",
   "execution_count": 23,
   "id": "708068bc-b157-4c99-82fa-ef030b8aa8ad",
   "metadata": {},
   "outputs": [
    {
     "name": "stdout",
     "output_type": "stream",
     "text": [
      "content='' additional_kwargs={'function_call': {'name': 'get_movie_recommendation', 'arguments': '{\"__arg1\": \"a\\\\u00e7\\\\u00e3o\"}'}} response_metadata={'prompt_feedback': {'block_reason': 0, 'safety_ratings': []}, 'finish_reason': 'STOP', 'safety_ratings': []} id='run-e1fdd40e-f811-4885-b0d8-2e44ec5acd06-0' tool_calls=[{'name': 'get_movie_recommendation', 'args': {'__arg1': 'ação'}, 'id': '6a33944f-657c-4f8b-bd8f-26172274298d', 'type': 'tool_call'}] usage_metadata={'input_tokens': 47, 'output_tokens': 9, 'total_tokens': 56, 'input_token_details': {'cache_read': 0}}\n",
      "Função chamada: get_movie_recommendation com argumentos {'__arg1': 'ação'}\n",
      "Argumentos passados para a função: {'__arg1': 'ação'}\n"
     ]
    },
    {
     "ename": "TypeError",
     "evalue": "get_movie_recommendation() got an unexpected keyword argument '__arg1'",
     "output_type": "error",
     "traceback": [
      "\u001b[1;31m---------------------------------------------------------------------------\u001b[0m",
      "\u001b[1;31mTypeError\u001b[0m                                 Traceback (most recent call last)",
      "Cell \u001b[1;32mIn[23], line 1\u001b[0m\n\u001b[1;32m----> 1\u001b[0m result \u001b[38;5;241m=\u001b[39m \u001b[43mroute_query\u001b[49m\u001b[43m(\u001b[49m\u001b[38;5;124;43m\"\u001b[39;49m\u001b[38;5;124;43mMe recomenda um filme de ação?\u001b[39;49m\u001b[38;5;124;43m\"\u001b[39;49m\u001b[43m)\u001b[49m\n\u001b[0;32m      3\u001b[0m \u001b[38;5;66;03m# print(f\"{route_query(\"Me fala sobre o filme Interestelar\")}\\n\\n\")\u001b[39;00m\n\u001b[0;32m      4\u001b[0m \u001b[38;5;66;03m# print(f\"{route_query(\"Oi\")}\\n\\n\")\u001b[39;00m\n",
      "Cell \u001b[1;32mIn[22], line 20\u001b[0m, in \u001b[0;36mroute_query\u001b[1;34m(user_input)\u001b[0m\n\u001b[0;32m     17\u001b[0m \u001b[38;5;66;03m# Chama a função correspondente com os argumentos e pega o resultado\u001b[39;00m\n\u001b[0;32m     18\u001b[0m \u001b[38;5;28;01mif\u001b[39;00m function_name \u001b[38;5;241m==\u001b[39m \u001b[38;5;124m\"\u001b[39m\u001b[38;5;124mget_movie_recommendation\u001b[39m\u001b[38;5;124m\"\u001b[39m:\n\u001b[0;32m     19\u001b[0m     \u001b[38;5;66;03m# Certifica-se de que as chaves estão corretas\u001b[39;00m\n\u001b[1;32m---> 20\u001b[0m     result \u001b[38;5;241m=\u001b[39m \u001b[43mget_movie_recommendation\u001b[49m\u001b[43m(\u001b[49m\u001b[38;5;241;43m*\u001b[39;49m\u001b[38;5;241;43m*\u001b[39;49m\u001b[43margs\u001b[49m\u001b[43m)\u001b[49m  \u001b[38;5;66;03m# Expande o dicionário para argumentos nomeados\u001b[39;00m\n\u001b[0;32m     21\u001b[0m \u001b[38;5;28;01melif\u001b[39;00m function_name \u001b[38;5;241m==\u001b[39m \u001b[38;5;124m\"\u001b[39m\u001b[38;5;124mquery_movie_database\u001b[39m\u001b[38;5;124m\"\u001b[39m:\n\u001b[0;32m     22\u001b[0m     result \u001b[38;5;241m=\u001b[39m query_movie_database(\u001b[38;5;241m*\u001b[39m\u001b[38;5;241m*\u001b[39margs)\n",
      "\u001b[1;31mTypeError\u001b[0m: get_movie_recommendation() got an unexpected keyword argument '__arg1'"
     ]
    }
   ],
   "source": [
    "result = route_query(\"Me recomenda um filme de ação?\")\n",
    "\n",
    "# print(f\"{route_query(\"Me fala sobre o filme Interestelar\")}\\n\\n\")\n",
    "# print(f\"{route_query(\"Oi\")}\\n\\n\")"
   ]
  },
  {
   "cell_type": "code",
   "execution_count": null,
   "id": "693e2b23-5171-4ccf-8dc6-fa8da7c8eeb8",
   "metadata": {},
   "outputs": [],
   "source": [
    "result.content"
   ]
  },
  {
   "cell_type": "code",
   "execution_count": null,
   "id": "c162ef45-4e6e-4a3d-91b9-8f095673b9d9",
   "metadata": {},
   "outputs": [],
   "source": []
  }
 ],
 "metadata": {
  "kernelspec": {
   "display_name": "Python 3 (ipykernel)",
   "language": "python",
   "name": "python3"
  },
  "language_info": {
   "codemirror_mode": {
    "name": "ipython",
    "version": 3
   },
   "file_extension": ".py",
   "mimetype": "text/x-python",
   "name": "python",
   "nbconvert_exporter": "python",
   "pygments_lexer": "ipython3",
   "version": "3.12.1"
  }
 },
 "nbformat": 4,
 "nbformat_minor": 5
}
